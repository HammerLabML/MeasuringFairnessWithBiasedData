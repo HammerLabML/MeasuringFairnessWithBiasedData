{
 "cells": [
  {
   "cell_type": "code",
   "execution_count": null,
   "id": "44ad2f34-e391-44cb-af9b-3b77aa7edc05",
   "metadata": {
    "tags": []
   },
   "outputs": [],
   "source": [
    "import pickle\n",
    "import os\n",
    "from tqdm import tqdm \n",
    "from datasets import load_dataset\n",
    "import pickle\n",
    "import numpy as np\n",
    "from datasets import Dataset, DatasetDict"
   ]
  },
  {
   "cell_type": "code",
   "execution_count": null,
   "id": "20c61cd8-670a-438e-99a6-815b9c2b16fb",
   "metadata": {
    "tags": []
   },
   "outputs": [],
   "source": [
    "FULL_MERGE_AVAILABLE = False"
   ]
  },
  {
   "cell_type": "markdown",
   "id": "aac13ee4-902f-4eec-8f3a-444ffcaa45d1",
   "metadata": {},
   "source": [
    "## Patch for Huggingface Dataset\n",
    "\n",
    "This adds our review results to the huggingface dataset \"LabHC/bias_in_bios\" found at https://huggingface.co/datasets/LabHC/bias_in_bios."
   ]
  },
  {
   "cell_type": "code",
   "execution_count": null,
   "id": "d5e3461c-7285-4a1e-92dc-3d0d69846734",
   "metadata": {
    "tags": []
   },
   "outputs": [],
   "source": [
    "if not FULL_MERGE_AVAILABLE:\n",
    "    dataset = load_dataset(\"LabHC/bias_in_bios\")\n",
    "\n",
    "    # labels in the order specified here: https://huggingface.co/datasets/LabHC/bias_in_bios\n",
    "    # not included in the datasets metadata\n",
    "    huggingface_label = ['accountant', 'architect', 'attorney', 'chiropractor', 'comedian', 'composer', 'dentist', 'dietitian', 'dj', 'filmmaker', 'interior_designer', 'journalist', 'model', 'nurse', 'painter', 'paralegal', 'pastor', 'personal_trainer', 'photographer', 'physician', 'poet', 'professor', 'psychologist', 'rapper', 'software_engineer', 'surgeon', 'teacher', 'yoga_teacher']\n",
    "    partitions = ['train', 'test', 'dev']\n",
    "\n",
    "    dataset['train'].info\n",
    "\n",
    "    # load the additional info\n",
    "    with open('data/huggingface_patch.pkl', 'rb') as handle:\n",
    "        review_data = pickle.load(handle)"
   ]
  },
  {
   "cell_type": "code",
   "execution_count": null,
   "id": "4bca6312-869b-4f7c-a31c-31cbd315d94f",
   "metadata": {
    "tags": []
   },
   "outputs": [],
   "source": [
    "if not FULL_MERGE_AVAILABLE:\n",
    "    # merge data\n",
    "    merged_dataset = {part: [] for part in partitions}\n",
    "    dup_id_list = []\n",
    "\n",
    "    for part in partitions:\n",
    "        print(part)\n",
    "        for i, sample in tqdm(enumerate(dataset[part])):\n",
    "            text = sample['hard_text']\n",
    "            patch = review_data[part][i]\n",
    "            new_sample = sample.copy()\n",
    "\n",
    "            if patch['review'] == 1:\n",
    "                sample['gender'] = patch['gender_supervised']\n",
    "            new_sample.update({'titles_supervised': patch['titles_supervised'], 'review': patch['review'], 'valid': patch['valid']})\n",
    "            merged_dataset[part].append(new_sample)"
   ]
  },
  {
   "cell_type": "markdown",
   "id": "b232728e-590b-44ac-a09a-b04e298f51f7",
   "metadata": {
    "tags": []
   },
   "source": [
    "## Load complete merged dataset if available"
   ]
  },
  {
   "cell_type": "code",
   "execution_count": null,
   "id": "0d29a856-b987-44cc-995a-228c253976a3",
   "metadata": {
    "tags": []
   },
   "outputs": [],
   "source": [
    "if FULL_MERGE_AVAILABLE:\n",
    "    with open('data/huggingface_merge_complete.pkl', 'rb') as handle:\n",
    "        review_data = pickle.load(handle)"
   ]
  },
  {
   "cell_type": "markdown",
   "id": "045bcb9a-1432-4318-b48c-2c3e771e08fc",
   "metadata": {},
   "source": [
    "## Filter the dataset and convert to huggingface dataset"
   ]
  },
  {
   "cell_type": "code",
   "execution_count": null,
   "id": "5c766a34-4a76-4c86-a74f-9249457dc183",
   "metadata": {},
   "outputs": [],
   "source": [
    "# select the fields to keep from the dataset (if non-reviewed samples are used, some fields may not be set for those not included in the review!)\n",
    "KEYS_TO_COPY = ['hard_text', 'profession', 'gender', 'raw', 'titles_supervised', 'review', 'valid', 'name']\n",
    "CLASSES = ['architect', 'surgeon', 'dentist', 'teacher', 'psychologist', 'nurse', 'photographer', 'physician', 'attorney', 'journalist']\n",
    "\n",
    "with open('merged.pkl', 'rb') as handle:\n",
    "    merged_dataset = pickle.load(handle)\n",
    "\n",
    "# filter the dataset: Copies the keys specified above and select a subset of classes (from the review). If non-reviewed samples are kept (and classes not part of the review) \n",
    "# there may be samples with empty fields (e.g. supervised titles). Name and raw text are only available if the full merged dataset (not the patch) is available.\n",
    "#   classes: a (sub)set of classes to keep (should be part of the review)\n",
    "#   single label: only keep those samples with a single label (otherwise get one-hot encoded labels)\n",
    "#   review only: only those samples that were part of the review\n",
    "#   valid only: only those considered valid in the review\n",
    "def filter_dataset(dataset: dict, classes: list, single_label=True, review_only=True, valid_only=True):\n",
    "    splits = dataset.keys()\n",
    "    split_dict = {}\n",
    "    filtered_dataset = {split: [] for split in splits}\n",
    "    for split in splits:\n",
    "        for elem in dataset[split]:\n",
    "            if valid_only and elem['valid'] != 1:\n",
    "                continue\n",
    "            if review_only and elem['review'] != 1:\n",
    "                continue\n",
    "            sel_titles = [title for title in elem['titles_supervised'] if title in classes]\n",
    "            if single_label and len(sel_titles) > 1:\n",
    "                continue\n",
    "            if len(sel_titles) == 0:\n",
    "                continue\n",
    "                \n",
    "            new_entry = {k: elem[k] for k in KEYS_TO_COPY}\n",
    "            if single_label:\n",
    "                label = classes.index(sel_titles[0])\n",
    "            else: # multi-label / one-hot encoded\n",
    "                label = np.zeros(len(classes))\n",
    "                for title in sel_titles:\n",
    "                    label[classes.index(title)] = 1\n",
    "            new_entry.update({'label': label})\n",
    "            filtered_dataset[split].append(new_entry)\n",
    "        print(len(filtered_dataset[split]))\n",
    "        \n",
    "        cur_split = {k: [elem[k] for elem in filtered_dataset[split]] for k in filtered_dataset[split][0].keys()}\n",
    "        split_dict[split] = Dataset.from_dict(cur_split, split=split)\n",
    "    return DatasetDict(split_dict)\n",
    "\n",
    "fdata = filter_dataset(merged_dataset, CLASSES, True, True, True)"
   ]
  },
  {
   "cell_type": "code",
   "execution_count": null,
   "id": "c8dbcba1-6f09-44a3-9638-5f27149c9a26",
   "metadata": {
    "tags": []
   },
   "outputs": [],
   "source": [
    "fdata"
   ]
  }
 ],
 "metadata": {
  "kernelspec": {
   "display_name": "Python 3 (ipykernel)",
   "language": "python",
   "name": "python3"
  },
  "language_info": {
   "codemirror_mode": {
    "name": "ipython",
    "version": 3
   },
   "file_extension": ".py",
   "mimetype": "text/x-python",
   "name": "python",
   "nbconvert_exporter": "python",
   "pygments_lexer": "ipython3",
   "version": "3.12.4"
  }
 },
 "nbformat": 4,
 "nbformat_minor": 5
}
