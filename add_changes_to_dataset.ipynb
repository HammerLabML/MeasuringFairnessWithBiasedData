{
 "cells": [
  {
   "cell_type": "code",
   "execution_count": null,
   "id": "painted-electricity",
   "metadata": {
    "tags": []
   },
   "outputs": [],
   "source": [
    "import pickle\n",
    "import os\n",
    "import pandas as pd\n",
    "import json"
   ]
  },
  {
   "cell_type": "code",
   "execution_count": null,
   "id": "durable-vegetable",
   "metadata": {
    "tags": []
   },
   "outputs": [],
   "source": [
    "BIOS_FILE_REVIEWED = \"data/BIOS_REVIEWED.pkl\" # only reviewed samples\n",
    "BIOS_FILE_COMPLETE = \"data/BIOS_COMPLETE.pkl\" # whole dataset with changes to the reviewed samples\n",
    "BIOS_LABELS = \"data/BIOS_LABELS.csv\" # this contains all of our changes without the sensitive data, but ids matching the BIOS dataset\n",
    "BIOS_RAW = \"../biosbias/data2023/BIOS.pkl\"#\"data/BIOS.pkl\"\n",
    "TITLE_JSON = \"data/title_lookup.json\"\n",
    "\n",
    "reviewed_classes = ['architect', 'surgeon', 'dentist', 'teacher', 'psychologist', 'nurse', 'photographer', 'physician', 'attorney', 'journalist']"
   ]
  },
  {
   "cell_type": "code",
   "execution_count": null,
   "id": "naked-capture",
   "metadata": {
    "tags": []
   },
   "outputs": [],
   "source": [
    "with (open(BIOS_RAW, \"rb\")) as openfile:\n",
    "    raw_data = pickle.load(openfile)"
   ]
  },
  {
   "cell_type": "code",
   "execution_count": null,
   "id": "beneficial-columbia",
   "metadata": {
    "tags": []
   },
   "outputs": [],
   "source": [
    "df_label = pd.read_csv(BIOS_LABELS, sep='\\t')\n",
    "labeled_data = df_label.to_dict('records')"
   ]
  },
  {
   "cell_type": "code",
   "execution_count": null,
   "id": "fatal-hybrid",
   "metadata": {
    "tags": []
   },
   "outputs": [],
   "source": [
    "for i in range(len(labeled_data)):\n",
    "    if not (raw_data[i]['raw_title'] == labeled_data[i]['auto_raw_title'] and raw_data[i]['start_pos'] == labeled_data[i]['start_pos']):\n",
    "        print(\"data mismatch at id \", i)\n",
    "        \n",
    "    labeled_data[i]['raw'] = raw_data[i]['raw']\n",
    "    labeled_data[i]['bio'] = raw_data[i]['bio']\n",
    "    labeled_data[i]['name'] = raw_data[i]['name']\n",
    "    \n",
    "    # convert titles from nan/string to list\n",
    "    if type(labeled_data[i]['titles']) == float:\n",
    "        labeled_data[i]['titles'] = []\n",
    "    elif type(labeled_data[i]['titles']) == str:\n",
    "        titles = labeled_data[i]['titles'].strip(']\"\\'[').split('\\', \\'')\n",
    "        labeled_data[i]['titles'] = titles\n",
    "        \n",
    "    # convert raw titles fron nan/string to list\n",
    "    if type(labeled_data[i]['raw_titles']) == float:\n",
    "        labeled_data[i]['raw_titles'] = []\n",
    "    elif type(labeled_data[i]['titles']) == str:\n",
    "        titles = labeled_data[i]['raw_titles'].strip(']\"\\'[').split(', ')\n",
    "        labeled_data[i]['raw_titles'] = titles"
   ]
  },
  {
   "cell_type": "code",
   "execution_count": null,
   "id": "desirable-dealing",
   "metadata": {
    "tags": []
   },
   "outputs": [],
   "source": [
    "df = pd.DataFrame(data=labeled_data)\n",
    "df_reviewed = df[df['review'] == 1]\n",
    "reviewed_data = df_reviewed.to_dict('records')"
   ]
  },
  {
   "cell_type": "code",
   "execution_count": null,
   "id": "independent-timeline",
   "metadata": {
    "tags": []
   },
   "outputs": [],
   "source": [
    "with (open(BIOS_FILE_COMPLETE, \"wb\")) as openfile:\n",
    "    pickle.dump(labeled_data, openfile)\n",
    "\n",
    "with (open(BIOS_FILE_REVIEWED, \"wb\")) as openfile:\n",
    "    pickle.dump(reviewed_data, openfile)"
   ]
  },
  {
   "cell_type": "code",
   "execution_count": null,
   "id": "clear-formation",
   "metadata": {},
   "outputs": [],
   "source": []
  }
 ],
 "metadata": {
  "kernelspec": {
   "display_name": "Python 3",
   "language": "python",
   "name": "python3"
  },
  "language_info": {
   "codemirror_mode": {
    "name": "ipython",
    "version": 3
   },
   "file_extension": ".py",
   "mimetype": "text/x-python",
   "name": "python",
   "nbconvert_exporter": "python",
   "pygments_lexer": "ipython3",
   "version": "3.7.9"
  }
 },
 "nbformat": 4,
 "nbformat_minor": 5
}
